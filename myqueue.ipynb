{
  "nbformat": 4,
  "nbformat_minor": 0,
  "metadata": {
    "colab": {
      "provenance": []
    },
    "kernelspec": {
      "name": "python3",
      "display_name": "Python 3"
    },
    "language_info": {
      "name": "python"
    }
  },
  "cells": [
    {
      "cell_type": "code",
      "source": [
        "class MyQueue:\n",
        "\n",
        "    def __init__(self):\n",
        "        self.input_stack = []  # 데이터를 추가하는 스택\n",
        "        self.output_stack = []  # 데이터를 제거하거나 반환하는 스택\n",
        "\n",
        "    def push(self, x: int) -> None:\n",
        "        self.input_stack.append(x)  # 입력 스택에 요소 추가\n",
        "\n",
        "    def pop(self) -> int:\n",
        "        self._transfer()  # 출력 스택이 비어 있으면 데이터 이동\n",
        "        return self.output_stack.pop()\n",
        "\n",
        "    def peek(self) -> int:\n",
        "        self._transfer()  # 출력 스택이 비어 있으면 데이터 이동\n",
        "        return self.output_stack[-1]\n",
        "\n",
        "    def empty(self) -> bool:\n",
        "        return not self.input_stack and not self.output_stack\n",
        "\n",
        "    def _transfer(self):\n",
        "        \"\"\"입력 스택에서 출력 스택으로 데이터를 옮깁니다.\"\"\"\n",
        "        if not self.output_stack:  # 출력 스택이 비어 있을 때만 이동\n",
        "            while self.input_stack:\n",
        "                self.output_stack.append(self.input_stack.pop())\n",
        "# Example usage\n",
        "queue = MyQueue()\n",
        "queue.push(1)\n",
        "queue.push(2)\n",
        "print(queue.peek())    # 출력: 1\n",
        "print(queue.pop())     # 출력: 1\n",
        "print(queue.empty())   # 출력: False\n"
      ],
      "metadata": {
        "id": "NGSxLUi6Dcfz"
      },
      "execution_count": null,
      "outputs": []
    },
    {
      "cell_type": "markdown",
      "source": [],
      "metadata": {
        "id": "Xi6FDpLlDbxE"
      }
    },
    {
      "cell_type": "code",
      "execution_count": null,
      "metadata": {
        "id": "g5plzjbtDalb"
      },
      "outputs": [],
      "source": []
    }
  ]
}