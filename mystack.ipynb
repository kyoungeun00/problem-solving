{
  "nbformat": 4,
  "nbformat_minor": 0,
  "metadata": {
    "colab": {
      "provenance": []
    },
    "kernelspec": {
      "name": "python3",
      "display_name": "Python 3"
    },
    "language_info": {
      "name": "python"
    }
  },
  "cells": [
    {
      "cell_type": "code",
      "execution_count": null,
      "metadata": {
        "colab": {
          "base_uri": "https://localhost:8080/"
        },
        "id": "KiztDHw6DEX9",
        "outputId": "24e8483f-42e3-4852-f5cd-e51f7cedd933"
      },
      "outputs": [
        {
          "output_type": "stream",
          "name": "stdout",
          "text": [
            "2\n",
            "2\n",
            "False\n"
          ]
        }
      ],
      "source": [
        "from collections import deque\n",
        "\n",
        "class MyStack:\n",
        "\n",
        "    def __init__(self):\n",
        "        self.queue = deque()  # 한 개의 큐 사용\n",
        "\n",
        "    def push(self, x: int) -> None:\n",
        "        self.queue.append(x)  # 새 요소를 큐에 추가\n",
        "        # 새로 추가한 요소를 앞쪽으로 이동시키기 위해 큐를 재구성\n",
        "        for _ in range(len(self.queue) - 1):\n",
        "            self.queue.append(self.queue.popleft())\n",
        "\n",
        "    def pop(self) -> int:\n",
        "        # 큐의 맨 앞이 스택의 top이므로 이를 제거\n",
        "        return self.queue.popleft()\n",
        "\n",
        "    def top(self) -> int:\n",
        "        # 큐의 맨 앞 요소 반환\n",
        "        return self.queue[0]\n",
        "\n",
        "    def empty(self) -> bool:\n",
        "        # 큐가 비어 있는지 확인\n",
        "        return not self.queue\n",
        "# Example usage\n",
        "stack = MyStack()\n",
        "stack.push(1)\n",
        "stack.push(2)\n",
        "print(stack.top())    # 출력: 2\n",
        "print(stack.pop())    # 출력: 2\n",
        "print(stack.empty())  # 출력: False\n"
      ]
    }
  ]
}